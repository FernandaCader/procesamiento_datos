{
 "cells": [
  {
   "attachments": {},
   "cell_type": "markdown",
   "metadata": {},
   "source": [
    "# Registros de empleados"
   ]
  },
  {
   "attachments": {},
   "cell_type": "markdown",
   "metadata": {},
   "source": [
    "Se creara una aplicacion grafica con Python que gestione una base de datos de \"empleados\", entendiendose por gestion la Conexión a la base de datos, Creación de la tabla de empleados,Inserción, Consulta, actualización y Eliminación de un empleado y su informacion dentro de la empresa."
   ]
  },
  {
   "cell_type": "code",
   "execution_count": 1,
   "metadata": {},
   "outputs": [],
   "source": [
    "### Importacion de librerias\n",
    "import sqlite3\n",
    "from sqlite3 import Error\n",
    "from tkinter import *\n",
    "from tkinter import messagebox"
   ]
  },
  {
   "attachments": {},
   "cell_type": "markdown",
   "metadata": {},
   "source": [
    "# Creación de la conexión a la base de datos"
   ]
  },
  {
   "cell_type": "code",
   "execution_count": 2,
   "metadata": {},
   "outputs": [],
   "source": [
    "def crear_conexion():\n",
    "    conn = None;\n",
    "    try:\n",
    "        conn = sqlite3.connect('empleados_db.sqlite')\n",
    "        print(sqlite3.version)\n",
    "    except Error as e:\n",
    "        print(e)\n",
    "    return conn"
   ]
  },
  {
   "attachments": {},
   "cell_type": "markdown",
   "metadata": {},
   "source": [
    "# Creación de la tabla de empleados"
   ]
  },
  {
   "cell_type": "code",
   "execution_count": 3,
   "metadata": {},
   "outputs": [],
   "source": [
    "def crear_tabla(conn):\n",
    "    try:\n",
    "        sql = ''' CREATE TABLE IF NOT EXISTS empleados (\n",
    "                                        id integer PRIMARY KEY,\n",
    "                                        nombre text NOT NULL,\n",
    "                                        cargo text NOT NULL,\n",
    "                                        salario real\n",
    "                                    ); '''\n",
    "        conn.cursor().execute(sql)\n",
    "    except Error as e:\n",
    "        print(e)"
   ]
  },
  {
   "attachments": {},
   "cell_type": "markdown",
   "metadata": {},
   "source": [
    "## Insercion de empleados"
   ]
  },
  {
   "cell_type": "code",
   "execution_count": 4,
   "metadata": {},
   "outputs": [],
   "source": [
    "def insertar_empleado(conn, empleado):\n",
    "    sql = ''' INSERT INTO empleados(nombre,cargo,salario)\n",
    "              VALUES(?,?,?) '''\n",
    "    cur = conn.cursor()\n",
    "    cur.execute(sql, empleado)\n",
    "    conn.commit()\n",
    "    return cur.lastrowid"
   ]
  },
  {
   "attachments": {},
   "cell_type": "markdown",
   "metadata": {},
   "source": [
    "# Consulta de empleados"
   ]
  },
  {
   "cell_type": "code",
   "execution_count": 5,
   "metadata": {},
   "outputs": [],
   "source": [
    "def consultar_empleados(conn):\n",
    "    cur = conn.cursor()\n",
    "    cur.execute(\"SELECT * FROM empleados\")\n",
    "    rows = cur.fetchall()\n",
    "    for row in rows:\n",
    "        print(row)"
   ]
  },
  {
   "attachments": {},
   "cell_type": "markdown",
   "metadata": {},
   "source": [
    "# Actualización de empleados"
   ]
  },
  {
   "cell_type": "code",
   "execution_count": 6,
   "metadata": {},
   "outputs": [],
   "source": [
    "# Actualización de empleados\n",
    "def actualizar_empleado(conn, empleado):\n",
    "    sql = '''\n",
    "    UPDATE empleados\n",
    "    SET nombre = ?,\n",
    "        cargo = ?,\n",
    "        salario = ?\n",
    "    WHERE id = ?\n",
    "    '''\n",
    "    cur = conn.cursor()\n",
    "    try:\n",
    "        cur.execute(sql, empleado)\n",
    "        conn.commit()\n",
    "        return \"Empleado actualizado correctamente.\"\n",
    "    except Exception as e:\n",
    "        print(f\"Error al actualizar empleado: {e}\")\n",
    "        return f\"Error al actualizar empleado: {e}\"\n"
   ]
  },
  {
   "attachments": {},
   "cell_type": "markdown",
   "metadata": {},
   "source": [
    "# Eliminación de un empleado"
   ]
  },
  {
   "cell_type": "code",
   "execution_count": 7,
   "metadata": {},
   "outputs": [],
   "source": [
    "# Eliminación de un empleado\n",
    "def eliminar_empleado(conn, id):\n",
    "    sql = 'DELETE FROM empleados WHERE id = ?'\n",
    "    cur = conn.cursor()\n",
    "    try:\n",
    "        cur.execute(sql, (id,))\n",
    "        conn.commit()\n",
    "        return \"Empleado eliminado correctamente.\"\n",
    "    except Exception as e:\n",
    "        print(f\"Error al eliminar empleado: {e}\")\n",
    "        return f\"Error al eliminar empleado: {e}\""
   ]
  },
  {
   "attachments": {},
   "cell_type": "markdown",
   "metadata": {},
   "source": [
    "# Creación de la ventana de la aplicación"
   ]
  },
  {
   "cell_type": "code",
   "execution_count": 8,
   "metadata": {},
   "outputs": [],
   "source": [
    "def crear_ventana():\n",
    "    ventana = Tk()\n",
    "    ventana.title(\"Gestión de empleados\")\n",
    "    ventana.geometry(\"800x600\")\n",
    "    return ventana"
   ]
  },
  {
   "attachments": {},
   "cell_type": "markdown",
   "metadata": {},
   "source": [
    "# Creación de botones y campos de texto para la interfaz de usuario"
   ]
  },
  {
   "cell_type": "code",
   "execution_count": 9,
   "metadata": {},
   "outputs": [
    {
     "name": "stdout",
     "output_type": "stream",
     "text": [
      "2.6.0\n"
     ]
    },
    {
     "name": "stderr",
     "output_type": "stream",
     "text": [
      "Exception in Tkinter callback\n",
      "Traceback (most recent call last):\n",
      "  File \"C:\\Program Files\\WindowsApps\\PythonSoftwareFoundation.Python.3.11_3.11.1264.0_x64__qbz5n2kfra8p0\\Lib\\tkinter\\__init__.py\", line 1948, in __call__\n",
      "    return self.func(*args)\n",
      "           ^^^^^^^^^^^^^^^^\n",
      "  File \"C:\\Users\\Fernanda\\AppData\\Local\\Temp\\ipykernel_9152\\3063189966.py\", line 73, in actualizar\n",
      "    mensaje_actualizacion = actualizar_empleado(conn, (nombre_texto.get(), cargo_texto.get(), float(salario_texto.get()), int(id_texto.get())))\n",
      "                                                                                              ^^^^^^^^^^^^^^^^^^^^^^^^^^\n",
      "ValueError: could not convert string to float: '90000/show'\n"
     ]
    }
   ],
   "source": [
    "from tkinter import *\n",
    "from tkinter import messagebox\n",
    "\n",
    "def crear_interfaz(ventana, conn):\n",
    "    # Configurar pesos para las filas y las columnas\n",
    "    for i in range(10):\n",
    "        ventana.grid_rowconfigure(i, weight=1)\n",
    "    for i in range(4):\n",
    "        ventana.grid_columnconfigure(i, weight=1)\n",
    "\n",
    "    # Crear campos de texto para introducir información de empleados\n",
    "    Label(ventana, text=\"Nombre del empleado:\").grid(row=0, column=0, sticky=W)\n",
    "    nombre_texto = StringVar()\n",
    "    Entry(ventana, textvariable=nombre_texto).grid(row=1, column=0, sticky=E+W)\n",
    "\n",
    "    Label(ventana, text=\"Cargo del empleado:\").grid(row=0, column=1, sticky=W)\n",
    "    cargo_texto = StringVar()\n",
    "    Entry(ventana, textvariable=cargo_texto).grid(row=1, column=1, sticky=E+W)\n",
    "\n",
    "    Label(ventana, text=\"Salario del empleado:\").grid(row=0, column=2, sticky=W)\n",
    "    salario_texto = StringVar()\n",
    "    Entry(ventana, textvariable=salario_texto).grid(row=1, column=2, sticky=E+W)\n",
    "\n",
    "    # Botón para insertar empleados\n",
    "    Button(ventana, text=\"Insertar empleado\", \n",
    "        command=lambda: insertar_empleado(conn, (nombre_texto.get(), cargo_texto.get(), float(salario_texto.get())))).grid(row=1, column=3, sticky=E+W)\n",
    "\n",
    "    # Botón para consultar empleados\n",
    "    def mostrar_empleados():\n",
    "        # Consultar empleados y mostrar los resultados\n",
    "        cur = conn.cursor()\n",
    "        cur.execute(\"SELECT * FROM empleados\")\n",
    "        rows = cur.fetchall()\n",
    "        resultados_texto.delete(1.0, END)\n",
    "        for row in rows:\n",
    "            resultados_texto.insert(END, str(row) + '\\n')\n",
    "\n",
    "    Button(ventana, text=\"Consultar empleados\", command=mostrar_empleados).grid(row=2, column=3, sticky=E+W)\n",
    "\n",
    "    # Crear un widget Text para mostrar los resultados de la consulta\n",
    "    resultados_texto = Text(ventana)\n",
    "    resultados_texto.grid(row=3, column=0, columnspan=4, rowspan=4, sticky=N+E+S+W)\n",
    "\n",
    "    Label(ventana, text=\"ID del empleado a actualizar/eliminar:\").grid(row=7, column=0, sticky=W)\n",
    "    id_texto = StringVar()\n",
    "    Entry(ventana, textvariable=id_texto).grid(row=8, column=0, sticky=E+W)\n",
    "\n",
    "    # Botón para cargar empleados\n",
    "    def cargar_empleado():\n",
    "        cur = conn.cursor()\n",
    "        cur.execute(\"SELECT * FROM empleados WHERE id=?\", (int(id_texto.get()),))\n",
    "        row = cur.fetchone()\n",
    "        if row is not None:\n",
    "            nombre_texto.set(row[1])\n",
    "            cargo_texto.set(row[2])\n",
    "            salario_texto.set(str(row[3]))\n",
    "        else:\n",
    "            messagebox.showerror(\"Error\", \"No se encontró un empleado con ese ID\")\n",
    "\n",
    "    Button(ventana, text=\"Cargar empleado\", command=cargar_empleado).grid(row=8, column=1, sticky=E+W)\n",
    "\n",
    "    # Botón para actualizar empleados\n",
    "    def actualizar():\n",
    "        respuesta = messagebox.askokcancel(\"Confirmar actualización\", \"¿Estás seguro de que quieres actualizar este empleado?\")\n",
    "        if respuesta:\n",
    "            actualizar_empleado(conn, (nombre_texto.get(), cargo_texto.get(), float(salario_texto.get()), int(id_texto.get())))\n",
    "            messagebox.showinfo(\"Información\", \"Empleado actualizado.\")\n",
    "\n",
    "    Button(ventana, text=\"Actualizar empleado\", command=actualizar).grid(row=8, column=2, sticky=E+W)\n",
    "\n",
    "    # Botón para eliminar empleados\n",
    "    def eliminar():\n",
    "        respuesta = messagebox.askokcancel(\"Confirmar eliminación\", \"¿Estás seguro de que quieres eliminar este empleado?\")\n",
    "        if respuesta:\n",
    "            eliminar_empleado(conn, int(id_texto.get()))\n",
    "            messagebox.showinfo(\"Información\", \"Empleado eliminado.\")\n",
    "\n",
    "    Button(ventana, text=\"Eliminar empleado\", command=eliminar).grid(row=8, column=3, sticky=E+W)\n",
    "\n",
    "\n",
    "if __name__ == '__main__':\n",
    "    conn = crear_conexion()\n",
    "    crear_tabla(conn)\n",
    "    ventana = crear_ventana() \n",
    "    crear_interfaz(ventana, conn)\n",
    "    ventana.mainloop()\n"
   ]
  }
 ],
 "metadata": {
  "kernelspec": {
   "display_name": "Python 3",
   "language": "python",
   "name": "python3"
  },
  "language_info": {
   "codemirror_mode": {
    "name": "ipython",
    "version": 3
   },
   "file_extension": ".py",
   "mimetype": "text/x-python",
   "name": "python",
   "nbconvert_exporter": "python",
   "pygments_lexer": "ipython3",
   "version": "3.11.4"
  },
  "orig_nbformat": 4
 },
 "nbformat": 4,
 "nbformat_minor": 2
}
