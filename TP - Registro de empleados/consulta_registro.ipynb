{
 "cells": [
  {
   "attachments": {},
   "cell_type": "markdown",
   "metadata": {},
   "source": [
    "# Registros de empleados"
   ]
  },
  {
   "attachments": {},
   "cell_type": "markdown",
   "metadata": {},
   "source": [
    "Se creara una aplicacion grafica con Python que gestione una base de datos de \"empleados\", entendiendose por gestion la Conexión a la base de datos, Creación de la tabla de empleados,Inserción, Consulta, actualización y Eliminación de un empleado y su informacion dentro de la empresa."
   ]
  },
  {
   "cell_type": "code",
   "execution_count": 19,
   "metadata": {},
   "outputs": [],
   "source": [
    "### Importacion de librerias\n",
    "import sqlite3\n",
    "from sqlite3 import Error\n",
    "from tkinter import *\n",
    "from tkinter import messagebox"
   ]
  },
  {
   "attachments": {},
   "cell_type": "markdown",
   "metadata": {},
   "source": [
    "# Creación de la conexión a la base de datos"
   ]
  },
  {
   "cell_type": "code",
   "execution_count": 20,
   "metadata": {},
   "outputs": [],
   "source": [
    "def crear_conexion():\n",
    "    conn = None;\n",
    "    try:\n",
    "        conn = sqlite3.connect('empleados_db.sqlite')\n",
    "        print(sqlite3.version)\n",
    "    except Error as e:\n",
    "        print(e)\n",
    "    return conn"
   ]
  },
  {
   "attachments": {},
   "cell_type": "markdown",
   "metadata": {},
   "source": [
    "# Creación de la tabla de empleados"
   ]
  },
  {
   "cell_type": "code",
   "execution_count": 21,
   "metadata": {},
   "outputs": [],
   "source": [
    "def crear_tabla(conn):\n",
    "    try:\n",
    "        sql = ''' CREATE TABLE IF NOT EXISTS empleados (\n",
    "                                        id integer PRIMARY KEY,\n",
    "                                        nombre text NOT NULL,\n",
    "                                        cargo text NOT NULL,\n",
    "                                        salario real\n",
    "                                    ); '''\n",
    "        conn.cursor().execute(sql)\n",
    "    except Error as e:\n",
    "        print(e)"
   ]
  },
  {
   "attachments": {},
   "cell_type": "markdown",
   "metadata": {},
   "source": [
    "## Insercion de empleados"
   ]
  },
  {
   "cell_type": "code",
   "execution_count": 22,
   "metadata": {},
   "outputs": [],
   "source": [
    "def insertar_empleado(conn, empleado):\n",
    "    sql = ''' INSERT INTO empleados(nombre,cargo,salario)\n",
    "              VALUES(?,?,?) '''\n",
    "    cur = conn.cursor()\n",
    "    cur.execute(sql, empleado)\n",
    "    conn.commit()\n",
    "    return cur.lastrowid"
   ]
  },
  {
   "attachments": {},
   "cell_type": "markdown",
   "metadata": {},
   "source": [
    "# Consulta de empleados"
   ]
  },
  {
   "cell_type": "code",
   "execution_count": 23,
   "metadata": {},
   "outputs": [],
   "source": [
    "def consultar_empleados(conn):\n",
    "    cur = conn.cursor()\n",
    "    cur.execute(\"SELECT * FROM empleados\")\n",
    "    rows = cur.fetchall()\n",
    "    for row in rows:\n",
    "        print(row)"
   ]
  },
  {
   "attachments": {},
   "cell_type": "markdown",
   "metadata": {},
   "source": [
    "# Actualización de empleados"
   ]
  },
  {
   "cell_type": "code",
   "execution_count": 24,
   "metadata": {},
   "outputs": [],
   "source": [
    "# Actualización de empleados\n",
    "def actualizar_empleado(conn, empleado):\n",
    "    sql = '''\n",
    "    UPDATE empleados\n",
    "    SET nombre = ?,\n",
    "        cargo = ?,\n",
    "        salario = ?\n",
    "    WHERE id = ?\n",
    "    '''\n",
    "    cur = conn.cursor()\n",
    "    try:\n",
    "        cur.execute(sql, empleado)\n",
    "        conn.commit()\n",
    "        return \"Empleado actualizado correctamente.\"\n",
    "    except Exception as e:\n",
    "        print(f\"Error al actualizar empleado: {e}\")\n",
    "        return f\"Error al actualizar empleado: {e}\"\n"
   ]
  },
  {
   "attachments": {},
   "cell_type": "markdown",
   "metadata": {},
   "source": [
    "# Eliminación de un empleado"
   ]
  },
  {
   "cell_type": "code",
   "execution_count": 25,
   "metadata": {},
   "outputs": [],
   "source": [
    "# Eliminación de un empleado\n",
    "def eliminar_empleado(conn, id):\n",
    "    sql = 'DELETE FROM empleados WHERE id = ?'\n",
    "    cur = conn.cursor()\n",
    "    try:\n",
    "        cur.execute(sql, (id,))\n",
    "        conn.commit()\n",
    "        return \"Empleado eliminado correctamente.\"\n",
    "    except Exception as e:\n",
    "        print(f\"Error al eliminar empleado: {e}\")\n",
    "        return f\"Error al eliminar empleado: {e}\""
   ]
  },
  {
   "attachments": {},
   "cell_type": "markdown",
   "metadata": {},
   "source": [
    "# Creación de la ventana de la aplicación"
   ]
  },
  {
   "cell_type": "code",
   "execution_count": 26,
   "metadata": {},
   "outputs": [],
   "source": [
    "def crear_ventana():\n",
    "    ventana = Tk()\n",
    "    ventana.title(\"Gestión de empleados\")\n",
    "    ventana.geometry(\"800x600\")\n",
    "    return ventana"
   ]
  },
  {
   "attachments": {},
   "cell_type": "markdown",
   "metadata": {},
   "source": [
    "# Creación de botones y campos de texto para la interfaz de usuario"
   ]
  },
  {
   "cell_type": "code",
   "execution_count": 27,
   "metadata": {},
   "outputs": [
    {
     "ename": "ModuleNotFoundError",
     "evalue": "No module named 'PySide2'",
     "output_type": "error",
     "traceback": [
      "\u001b[1;31m---------------------------------------------------------------------------\u001b[0m",
      "\u001b[1;31mModuleNotFoundError\u001b[0m                       Traceback (most recent call last)",
      "Cell \u001b[1;32mIn[27], line 4\u001b[0m\n\u001b[0;32m      2\u001b[0m \u001b[39mfrom\u001b[39;00m \u001b[39mtkinter\u001b[39;00m \u001b[39mimport\u001b[39;00m messagebox\n\u001b[0;32m      3\u001b[0m \u001b[39mimport\u001b[39;00m \u001b[39msys\u001b[39;00m\n\u001b[1;32m----> 4\u001b[0m \u001b[39mfrom\u001b[39;00m \u001b[39mPySide2\u001b[39;00m\u001b[39m.\u001b[39;00m\u001b[39mQtWidgets\u001b[39;00m \u001b[39mimport\u001b[39;00m QApplication, QMainWindow, QLabel, QLineEdit, QTextEdit, QPushButton, QMessageBox\n\u001b[0;32m      6\u001b[0m \u001b[39mclass\u001b[39;00m \u001b[39mVentanaPrincipal\u001b[39;00m(QMainWindow):\n\u001b[0;32m      7\u001b[0m     \u001b[39mdef\u001b[39;00m \u001b[39m__init__\u001b[39m(\u001b[39mself\u001b[39m, conn):\n",
      "\u001b[1;31mModuleNotFoundError\u001b[0m: No module named 'PySide2'"
     ]
    }
   ],
   "source": [
    "from tkinter import *\n",
    "from tkinter import messagebox\n",
    "\n",
    "import sys\n",
    "from PyQt5.QtWidgets import QApplication, QMainWindow, QLabel, QWidget, QVBoxLayout, QHBoxLayout, QLineEdit, QPushButton, QTextEdit\n",
    "from PyQt5.QtGui import QTextCursor\n",
    "from PyQt5.QtCore import Qt\n",
    "from PyQt5.QtWidgets import QMessageBox\n",
    "from sqlite3 import Error\n",
    "import sqlite3\n",
    "\n",
    "def crear_conexion():\n",
    "    conn = None\n",
    "    try:\n",
    "        conn = sqlite3.connect('empleados_db.sqlite')\n",
    "        print(sqlite3.version)\n",
    "    except Error as e:\n",
    "        print(e)\n",
    "    return conn\n",
    "\n",
    "def crear_tabla(conn):\n",
    "    try:\n",
    "        sql = ''' CREATE TABLE IF NOT EXISTS empleados (\n",
    "                                        id integer PRIMARY KEY,\n",
    "                                        nombre text NOT NULL,\n",
    "                                        cargo text NOT NULL,\n",
    "                                        salario real\n",
    "                                    ); '''\n",
    "        conn.cursor().execute(sql)\n",
    "    except Error as e:\n",
    "        print(e)\n",
    "\n",
    "def insertar_empleado(conn, empleado):\n",
    "    sql = ''' INSERT INTO empleados(nombre,cargo,salario)\n",
    "              VALUES(?,?,?) '''\n",
    "    cur = conn.cursor()\n",
    "    cur.execute(sql, empleado)\n",
    "    conn.commit()\n",
    "    return cur.lastrowid\n",
    "\n",
    "def consultar_empleados(conn):\n",
    "    cur = conn.cursor()\n",
    "    cur.execute(\"SELECT * FROM empleados\")\n",
    "    rows = cur.fetchall()\n",
    "    for row in rows:\n",
    "        print(row)\n",
    "\n",
    "def actualizar_empleado(conn, empleado):\n",
    "    sql = '''\n",
    "    UPDATE empleados\n",
    "    SET nombre = ?,\n",
    "        cargo = ?,\n",
    "        salario = ?\n",
    "    WHERE id = ?\n",
    "    '''\n",
    "    cur = conn.cursor()\n",
    "    cur.execute(sql, empleado)\n",
    "    conn.commit()\n",
    "\n",
    "def eliminar_empleado(conn, id):\n",
    "    sql = 'DELETE FROM empleados WHERE id = ?'\n",
    "    cur = conn.cursor()\n",
    "    cur.execute(sql, (id,))\n",
    "    conn.commit()\n",
    "\n",
    "class VentanaPrincipal(QMainWindow):\n",
    "    def __init__(self, conn):\n",
    "        super().__init__()\n",
    "        self.conn = conn\n",
    "        self.setWindowTitle(\"Gestión de empleados\")\n",
    "        self.setGeometry(100, 100, 800, 600)\n",
    "\n",
    "        widget_principal = QWidget()\n",
    "        layout_principal = QVBoxLayout()\n",
    "        widget_principal.setLayout(layout_principal)\n",
    "\n",
    "        self.nombre_texto = QLineEdit()\n",
    "        self.cargo_texto = QLineEdit()\n",
    "        self.salario_texto = QLineEdit()\n",
    "        self.resultados_texto = QTextEdit()\n",
    "        self.id_texto = QLineEdit()\n",
    "\n",
    "        layout_principal.addWidget(QLabel(\"Nombre del empleado:\"))\n",
    "        layout_principal.addWidget(self.nombre_texto)\n",
    "\n",
    "        layout_principal.addWidget(QLabel(\"Cargo del empleado:\"))\n",
    "        layout_principal.addWidget(self.cargo_texto)\n",
    "\n",
    "        layout_principal.addWidget(QLabel(\"Salario del empleado:\"))\n",
    "        layout_principal.addWidget(self.salario_texto)\n",
    "\n",
    "        layout_principal.addWidget(QPushButton(\"Insertar empleado\", clicked=self.insertar_empleado))\n",
    "\n",
    "        layout_principal.addWidget(QLabel(\"Resultados de la consulta:\"))\n",
    "        layout_principal.addWidget(self.resultados_texto)\n",
    "\n",
    "        layout_principal.addWidget(QPushButton(\"Consultar empleados\", clicked=self.mostrar_empleados))\n",
    "\n",
    "        layout_principal.addWidget(QLabel(\"ID del empleado a actualizar/eliminar:\"))\n",
    "        layout_principal.addWidget(self.id_texto)\n",
    "\n",
    "        layout_principal.addWidget(QPushButton(\"Cargar empleado\", clicked=self.cargar_empleado))\n",
    "        layout_principal.addWidget(QPushButton(\"Actualizar empleado\", clicked=self.actualizar_empleado))\n",
    "        layout_principal.addWidget(QPushButton(\"Eliminar empleado\", clicked=self.eliminar_empleado))\n",
    "\n",
    "        self.setCentralWidget(widget_principal)\n",
    "\n",
    "    def insertar_empleado(self):\n",
    "        nombre = self.nombre_texto.text()\n",
    "        cargo = self.cargo_texto.text()\n",
    "        salario = float(self.salario_texto.text())\n",
    "        empleado = (nombre, cargo, salario)\n",
    "        empleado_id = insertar_empleado(self.conn, empleado)\n",
    "        QMessageBox.information(self, \"Información\", f\"Empleado insertado con ID: {empleado_id}\")\n",
    "        self.nombre_texto.clear()\n",
    "        self.cargo_texto.clear()\n",
    "        self.salario_texto.clear()\n",
    "\n",
    "    def mostrar_empleados(self):\n",
    "        cur = self.conn.cursor()\n",
    "        cur.execute(\"SELECT * FROM empleados\")\n",
    "        rows = cur.fetchall()\n",
    "        self.resultados_texto.clear()\n",
    "        for row in rows:\n",
    "            self.resultados_texto.insertPlainText(str(row) + '\\n')\n",
    "\n",
    "    def cargar_empleado(self):\n",
    "        empleado_id = int(self.id_texto.text())\n",
    "        cur = self.conn.cursor()\n",
    "        cur.execute(\"SELECT * FROM empleados WHERE id=?\", (empleado_id,))\n",
    "        row = cur.fetchone()\n",
    "        if row is not None:\n",
    "            self.nombre_texto.setText(row[1])\n",
    "            self.cargo_texto.setText(row[2])\n",
    "            self.salario_texto.setText(str(row[3]))\n",
    "        else:\n",
    "            QMessageBox.warning(self, \"Error\", \"No se encontró un empleado con ese ID\")\n",
    "\n",
    "    def actualizar_empleado(self):\n",
    "        empleado_id = int(self.id_texto.text())\n",
    "        respuesta = QMessageBox.question(self, \"Confirmar actualización\", \"¿Estás seguro de que quieres actualizar este empleado?\")\n",
    "        if respuesta == QMessageBox.Yes:\n",
    "            nombre = self.nombre_texto.text()\n",
    "            cargo = self.cargo_texto.text()\n",
    "            salario = float(self.salario_texto.text())\n",
    "            empleado = (nombre, cargo, salario, empleado_id)\n",
    "            actualizar_empleado(self.conn, empleado)\n",
    "            QMessageBox.information(self, \"Información\", \"Empleado actualizado.\")\n",
    "            self.nombre_texto.clear()\n",
    "            self.cargo_texto.clear()\n",
    "            self.salario_texto.clear()\n",
    "\n",
    "    def eliminar_empleado(self):\n",
    "        empleado_id = int(self.id_texto.text())\n",
    "        respuesta = QMessageBox.question(self, \"Confirmar eliminación\", \"¿Estás seguro de que quieres eliminar este empleado?\")\n",
    "        if respuesta == QMessageBox.Yes:\n",
    "            eliminar_empleado(self.conn, empleado_id)\n",
    "            QMessageBox.information(self, \"Información\", \"Empleado eliminado.\")\n",
    "            self.nombre_texto.clear()\n",
    "            self.cargo_texto.clear()\n",
    "            self.salario_texto.clear()\n",
    "\n",
    "if __name__ == '__main__':\n",
    "    conn = crear_conexion()\n",
    "    crear_tabla(conn)\n",
    "\n",
    "    app = QApplication(sys.argv)\n",
    "    ventana = VentanaPrincipal(conn)\n",
    "    ventana.show()\n",
    "\n",
    "    sys.exit(app.exec_())\n"
   ]
  }
 ],
 "metadata": {
  "kernelspec": {
   "display_name": "Python 3",
   "language": "python",
   "name": "python3"
  },
  "language_info": {
   "codemirror_mode": {
    "name": "ipython",
    "version": 3
   },
   "file_extension": ".py",
   "mimetype": "text/x-python",
   "name": "python",
   "nbconvert_exporter": "python",
   "pygments_lexer": "ipython3",
   "version": "3.11.4"
  },
  "orig_nbformat": 4
 },
 "nbformat": 4,
 "nbformat_minor": 2
}
